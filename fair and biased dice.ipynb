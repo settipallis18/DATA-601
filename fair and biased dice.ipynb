{
 "cells": [
  {
   "cell_type": "code",
   "execution_count": 7,
   "id": "aed4b851",
   "metadata": {},
   "outputs": [],
   "source": [
    "import pandas\n",
    "import matplotlib.pyplot as plt"
   ]
  },
  {
   "cell_type": "code",
   "execution_count": null,
   "id": "5a226fcb",
   "metadata": {},
   "outputs": [],
   "source": []
  },
  {
   "cell_type": "code",
   "execution_count": 21,
   "id": "ccbe8108",
   "metadata": {},
   "outputs": [
    {
     "name": "stdout",
     "output_type": "stream",
     "text": [
      "Number of  1 's:  178\n",
      "Number of  2 's:  165\n",
      "Number of  3 's:  171\n",
      "Number of  4 's:  158\n",
      "Number of  5 's:  174\n",
      "Number of  6 's:  154\n"
     ]
    }
   ],
   "source": [
    "import random\n",
    " \n",
    "test_data = [0, 0, 0, 0, 0, 0] #this will keep track of the results\n",
    "n = 1000 # this can be easily changed for different sample sizes\n",
    " \n",
    " \n",
    "for i in range(n):\n",
    "  result = random.randint(1, 6)\n",
    "  test_data[result - 1] = test_data[result - 1] + 1\n",
    " \n",
    "for i in range(0, 6):\n",
    "  print(\"Number of \", i+1, \"'s: \", test_data[i])\n",
    " \n",
    "#To change the number of sides on the die, change the size of\n",
    "#test_data and the range for the random number.\n",
    "#resource https://www.pd4cs.org/rolling-a-die/ "
   ]
  },
  {
   "cell_type": "code",
   "execution_count": 22,
   "id": "f755043a",
   "metadata": {},
   "outputs": [
    {
     "data": {
      "image/png": "[encoded data removed]",
      "text/plain": [
       "<Figure size 432x288 with 1 Axes>"
      ]
     },
     "metadata": {
      "needs_background": "light"
     },
     "output_type": "display_data"
    }
   ],
   "source": [
    "x=[1, 2, 3, 4, 5, 6]\n",
    "y=test_data\n",
    "\n",
    "fig = plt.figure()\n",
    "ax = fig.add_axes([0,0,1,1])\n",
    "ax.bar(x,y)\n",
    "plt.show()\n",
    "#resource https://www.tutorialspoint.com/matplotlib/matplotlib_bar_plot.htm"
   ]
  },
  {
   "cell_type": "code",
   "execution_count": null,
   "id": "a8f76576",
   "metadata": {},
   "outputs": [],
   "source": []
  },
  {
   "cell_type": "code",
   "execution_count": null,
   "id": "e62aef0f",
   "metadata": {},
   "outputs": [],
   "source": []
  },
  {
   "cell_type": "code",
   "execution_count": 23,
   "id": "259c6e9a",
   "metadata": {},
   "outputs": [],
   "source": [
    "test_data = [0, 0, 0, 0, 0, 0]\n",
    "sampleMassDist = (0.15, 0.15, 0.15, 0.15, 0.15, 0.25)\n",
    "# assume sum of bias is 1\n",
    "def roll(massDist):\n",
    "    randRoll = random.random() # in [0,1]\n",
    "    sum = 0\n",
    "    result = 1\n",
    "    for mass in massDist:\n",
    "        sum += mass\n",
    "        if randRoll < sum:\n",
    "            return result\n",
    "        result+=1\n",
    "\n",
    "for i in range(n):\n",
    "  result = roll(sampleMassDist)\n",
    "  test_data[result - 1] = test_data[result - 1] + 1\n",
    "\n",
    "#resource https://stackoverflow.com/questions/479236/how-do-i-simulate-biased-die-in-python "
   ]
  },
  {
   "cell_type": "code",
   "execution_count": 24,
   "id": "9d856f2c",
   "metadata": {},
   "outputs": [
    {
     "data": {
      "image/png": "[encoded data removed]",
      "text/plain": [
       "<Figure size 432x288 with 1 Axes>"
      ]
     },
     "metadata": {
      "needs_background": "light"
     },
     "output_type": "display_data"
    }
   ],
   "source": [
    "x=[1, 2, 3, 4, 5, 6]\n",
    "y=test_data\n",
    "\n",
    "fig = plt.figure()\n",
    "ax = fig.add_axes([0,0,1,1])\n",
    "ax.bar(x,y)\n",
    "plt.show()"
   ]
  },
  {
   "cell_type": "code",
   "execution_count": null,
   "id": "f692f2e5",
   "metadata": {},
   "outputs": [],
   "source": []
  }
 ],
 "metadata": {
  "kernelspec": {
   "display_name": "Python 3",
   "language": "python",
   "name": "python3"
  },
  "language_info": {
   "codemirror_mode": {
    "name": "ipython",
    "version": 3
   },
   "file_extension": ".py",
   "mimetype": "text/x-python",
   "name": "python",
   "nbconvert_exporter": "python",
   "pygments_lexer": "ipython3",
   "version": "3.8.8"
  }
 },
 "nbformat": 4,
 "nbformat_minor": 5
}

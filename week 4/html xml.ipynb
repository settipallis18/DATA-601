{
 "cells": [
  {
   "cell_type": "code",
   "execution_count": 1,
   "id": "cbbeafae",
   "metadata": {},
   "outputs": [
    {
     "name": "stdout",
     "output_type": "stream",
     "text": [
      "Requirement already satisfied: bs4 in c:\\users\\setti\\appdata\\local\\programs\\python\\python39\\lib\\site-packages (0.0.1)\n",
      "Requirement already satisfied: beautifulsoup4 in c:\\users\\setti\\appdata\\local\\programs\\python\\python39\\lib\\site-packages (from bs4) (4.10.0)\n",
      "Requirement already satisfied: soupsieve>1.2 in c:\\users\\setti\\appdata\\local\\programs\\python\\python39\\lib\\site-packages (from beautifulsoup4->bs4) (2.2.1)\n"
     ]
    }
   ],
   "source": [
    "!pip install bs4"
   ]
  },
  {
   "cell_type": "code",
   "execution_count": 2,
   "id": "348ac7c3",
   "metadata": {},
   "outputs": [
    {
     "name": "stdout",
     "output_type": "stream",
     "text": [
      "Requirement already satisfied: BeautifulSoup4 in c:\\users\\setti\\appdata\\local\\programs\\python\\python39\\lib\\site-packages (4.10.0)\n",
      "Requirement already satisfied: soupsieve>1.2 in c:\\users\\setti\\appdata\\local\\programs\\python\\python39\\lib\\site-packages (from BeautifulSoup4) (2.2.1)\n"
     ]
    }
   ],
   "source": [
    "!pip install BeautifulSoup4"
   ]
  },
  {
   "cell_type": "code",
   "execution_count": 3,
   "id": "314b6f3d",
   "metadata": {},
   "outputs": [
    {
     "name": "stdout",
     "output_type": "stream",
     "text": [
      "Requirement already satisfied: lxml in c:\\users\\setti\\appdata\\local\\programs\\python\\python39\\lib\\site-packages (4.6.3)\n"
     ]
    }
   ],
   "source": [
    "!pip install lxml"
   ]
  },
  {
   "cell_type": "code",
   "execution_count": 11,
   "id": "b5d3bb9a",
   "metadata": {},
   "outputs": [
    {
     "name": "stdout",
     "output_type": "stream",
     "text": [
      "HTML Page  1 has 5  tags.\n",
      "HTML Page  2 has 5  tags.\n",
      "HTML Page  3 has 4  tags.\n",
      "HTML Page  4 has 5  tags.\n",
      "HTML Page  5 has 5  tags.\n",
      "HTML Page  6 has 4  tags.\n",
      "HTML Page  7 has 4  tags.\n",
      "HTML Page  8 has 3  tags.\n",
      "HTML Page  9 has 3  tags.\n",
      "HTML Page  10 has 4  tags.\n",
      "HTML Page  11 has 6  tags.\n",
      "HTML Page  12 has 3  tags.\n",
      "HTML Page  13 has 5  tags.\n",
      "HTML Page  14 has 5  tags.\n",
      "HTML Page  15 has 4  tags.\n",
      "HTML Page  16 has 4  tags.\n",
      "HTML Page  17 has 5  tags.\n",
      "HTML Page  18 has 5  tags.\n",
      "HTML Page  19 has 3  tags.\n",
      "HTML Page  20 has 3  tags.\n",
      "HTML Page  21 has 4  tags.\n",
      "HTML Page  22 has 3  tags.\n",
      "HTML Page  23 has 3  tags.\n",
      "HTML Page  24 has 4  tags.\n",
      "HTML Page  25 has 4  tags.\n",
      "HTML Page  26 has 3  tags.\n",
      "HTML Page  27 has 5  tags.\n",
      "HTML Page  28 has 4  tags.\n",
      "HTML Page  29 has 4  tags.\n",
      "HTML Page  30 has 3  tags.\n",
      "HTML Page  31 has 3  tags.\n",
      "HTML Page  32 has 5  tags.\n",
      "HTML Page  33 has 4  tags.\n",
      "HTML Page  34 has 3  tags.\n",
      "HTML Page  35 has 5  tags.\n",
      "HTML Page  36 has 5  tags.\n",
      "HTML Page  37 has 4  tags.\n",
      "HTML Page  38 has 5  tags.\n",
      "HTML Page  39 has 4  tags.\n",
      "HTML Page  40 has 4  tags.\n",
      "HTML Page  41 has 4  tags.\n",
      "HTML Page  42 has 3  tags.\n",
      "HTML Page  43 has 6  tags.\n",
      "HTML Page  44 has 6  tags.\n",
      "HTML Page  45 has 4  tags.\n",
      "HTML Page  46 has 3  tags.\n",
      "HTML Page  47 has 4  tags.\n",
      "HTML Page  48 has 4  tags.\n",
      "HTML Page  49 has 4  tags.\n",
      "HTML Page  50 has 3  tags.\n",
      "HTML Page  51 has 4  tags.\n",
      "HTML Page  52 has 4  tags.\n",
      "HTML Page  53 has 5  tags.\n",
      "HTML Page  54 has 3  tags.\n",
      "HTML Page  55 has 4  tags.\n",
      "HTML Page  56 has 4  tags.\n",
      "HTML Page  57 has 3  tags.\n",
      "HTML Page  58 has 5  tags.\n",
      "HTML Page  59 has 6  tags.\n",
      "HTML Page  60 has 3  tags.\n",
      "HTML Page  61 has 3  tags.\n",
      "HTML Page  62 has 4  tags.\n",
      "HTML Page  63 has 5  tags.\n",
      "HTML Page  64 has 4  tags.\n",
      "HTML Page  65 has 4  tags.\n",
      "HTML Page  66 has 3  tags.\n",
      "HTML Page  67 has 3  tags.\n",
      "HTML Page  68 has 5  tags.\n",
      "HTML Page  69 has 6  tags.\n",
      "HTML Page  70 has 4  tags.\n",
      "HTML Page  71 has 4  tags.\n",
      "HTML Page  72 has 5  tags.\n",
      "HTML Page  73 has 3  tags.\n",
      "HTML Page  74 has 5  tags.\n",
      "HTML Page  75 has 4  tags.\n",
      "HTML Page  76 has 3  tags.\n",
      "HTML Page  77 has 5  tags.\n",
      "HTML Page  78 has 4  tags.\n",
      "HTML Page  79 has 3  tags.\n",
      "HTML Page  80 has 3  tags.\n",
      "HTML Page  81 has 3  tags.\n",
      "HTML Page  82 has 4  tags.\n",
      "HTML Page  83 has 3  tags.\n",
      "HTML Page  84 has 4  tags.\n",
      "HTML Page  85 has 4  tags.\n",
      "HTML Page  86 has 3  tags.\n",
      "HTML Page  87 has 4  tags.\n",
      "HTML Page  88 has 4  tags.\n",
      "HTML Page  89 has 5  tags.\n",
      "HTML Page  90 has 5  tags.\n",
      "HTML Page  91 has 3  tags.\n",
      "HTML Page  92 has 3  tags.\n",
      "HTML Page  93 has 5  tags.\n",
      "HTML Page  94 has 5  tags.\n",
      "HTML Page  95 has 5  tags.\n",
      "HTML Page  96 has 3  tags.\n",
      "HTML Page  97 has 5  tags.\n",
      "HTML Page  98 has 5  tags.\n",
      "HTML Page  99 has 5  tags.\n",
      "HTML Page  100 has 4  tags.\n",
      "HTML Page  101 has 3  tags.\n",
      "HTML Page  102 has 4  tags.\n",
      "HTML Page  103 has 3  tags.\n",
      "HTML Page  104 has 3  tags.\n",
      "HTML Page  105 has 5  tags.\n",
      "HTML Page  106 has 4  tags.\n",
      "HTML Page  107 has 3  tags.\n",
      "HTML Page  108 has 3  tags.\n",
      "HTML Page  109 has 3  tags.\n",
      "HTML Page  110 has 4  tags.\n",
      "HTML Page  111 has 4  tags.\n",
      "HTML Page  112 has 3  tags.\n",
      "HTML Page  113 has 5  tags.\n",
      "HTML Page  114 has 4  tags.\n",
      "HTML Page  115 has 4  tags.\n",
      "HTML Page  116 has 4  tags.\n",
      "HTML Page  117 has 5  tags.\n",
      "HTML Page  118 has 4  tags.\n",
      "HTML Page  119 has 4  tags.\n",
      "HTML Page  120 has 5  tags.\n",
      "HTML Page  121 has 3  tags.\n",
      "HTML Page  122 has 3  tags.\n",
      "HTML Page  123 has 4  tags.\n",
      "HTML Page  124 has 3  tags.\n",
      "HTML Page  125 has 4  tags.\n"
     ]
    }
   ],
   "source": [
    "from bs4 import BeautifulSoup\n",
    "import lxml\n",
    "import re\n",
    "with open('xml_containing_html.xml','r') as file:\n",
    "    contents=file.read()\n",
    "    soup=BeautifulSoup(contents,'xml')\n",
    "    i=0\n",
    "    for tags in soup.find_all('content'):\n",
    "        i+=1\n",
    "        x=re.findall('href',str(tags))\n",
    "        print(\"HTML Page \",i,\"has\",len(x), \" tags.\")"
   ]
  },
  {
   "cell_type": "code",
   "execution_count": null,
   "id": "ed91196d",
   "metadata": {},
   "outputs": [],
   "source": [
    "soup.findall"
   ]
  }
 ],
 "metadata": {
  "kernelspec": {
   "display_name": "Python 3 (ipykernel)",
   "language": "python",
   "name": "python3"
  },
  "language_info": {
   "codemirror_mode": {
    "name": "ipython",
    "version": 3
   },
   "file_extension": ".py",
   "mimetype": "text/x-python",
   "name": "python",
   "nbconvert_exporter": "python",
   "pygments_lexer": "ipython3",
   "version": "3.9.7"
  }
 },
 "nbformat": 4,
 "nbformat_minor": 5
}

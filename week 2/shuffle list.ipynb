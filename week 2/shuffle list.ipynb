{
 "cells": [
  {
   "cell_type": "markdown",
   "id": "865d881a",
   "metadata": {},
   "source": [
    "# shuffle list assignment"
   ]
  },
  {
   "cell_type": "code",
   "execution_count": 1,
   "id": "39ebb725",
   "metadata": {},
   "outputs": [],
   "source": [
    "\n",
    "def shufflelist(lst):\n",
    "    shufflelist = lst[-1:] + lst[:-1]   #we are manipulating list\n",
    "    return (shufflelist)"
   ]
  },
  {
   "cell_type": "code",
   "execution_count": 2,
   "id": "778120fc",
   "metadata": {},
   "outputs": [
    {
     "data": {
      "text/plain": [
       "[3, 1, 2]"
      ]
     },
     "execution_count": 2,
     "metadata": {},
     "output_type": "execute_result"
    }
   ],
   "source": [
    "shufflelist([1,2,3]) #we are calling the function"
   ]
  },
  {
   "cell_type": "code",
   "execution_count": 3,
   "id": "62039f8d",
   "metadata": {},
   "outputs": [
    {
     "data": {
      "text/plain": [
       "[5, 9, 2, 6]"
      ]
     },
     "execution_count": 3,
     "metadata": {},
     "output_type": "execute_result"
    }
   ],
   "source": [
    "shufflelist([9,2,6,5])"
   ]
  },
  {
   "cell_type": "code",
   "execution_count": null,
   "id": "1b7e6599",
   "metadata": {},
   "outputs": [],
   "source": []
  }
 ],
 "metadata": {
  "kernelspec": {
   "display_name": "Python 3 (ipykernel)",
   "language": "python",
   "name": "python3"
  },
  "language_info": {
   "codemirror_mode": {
    "name": "ipython",
    "version": 3
   },
   "file_extension": ".py",
   "mimetype": "text/x-python",
   "name": "python",
   "nbconvert_exporter": "python",
   "pygments_lexer": "ipython3",
   "version": "3.9.7"
  }
 },
 "nbformat": 4,
 "nbformat_minor": 5
}

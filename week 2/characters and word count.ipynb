{
 "cells": [
  {
   "cell_type": "code",
   "execution_count": 1,
   "id": "58fe5554",
   "metadata": {},
   "outputs": [],
   "source": [
    "def characters(sent):\n",
    "    a=len(sent)\n",
    "    word=sent.split(\" \")\n",
    "    b=len(word)\n",
    "    return(a,b)\n",
    "    "
   ]
  },
  {
   "cell_type": "code",
   "execution_count": 2,
   "id": "9e234cb1",
   "metadata": {},
   "outputs": [
    {
     "data": {
      "text/plain": [
       "(17, 3)"
      ]
     },
     "execution_count": 2,
     "metadata": {},
     "output_type": "execute_result"
    }
   ],
   "source": [
    "characters(\"welcome too world\")"
   ]
  },
  {
   "cell_type": "code",
   "execution_count": null,
   "id": "dd28d865",
   "metadata": {},
   "outputs": [],
   "source": []
  }
 ],
 "metadata": {
  "kernelspec": {
   "display_name": "Python 3 (ipykernel)",
   "language": "python",
   "name": "python3"
  },
  "language_info": {
   "codemirror_mode": {
    "name": "ipython",
    "version": 3
   },
   "file_extension": ".py",
   "mimetype": "text/x-python",
   "name": "python",
   "nbconvert_exporter": "python",
   "pygments_lexer": "ipython3",
   "version": "3.9.7"
  }
 },
 "nbformat": 4,
 "nbformat_minor": 5
}

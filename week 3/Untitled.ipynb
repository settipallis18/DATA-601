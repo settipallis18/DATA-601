{
 "cells": [
  {
   "cell_type": "code",
   "execution_count": 5,
   "id": "9e2f1801",
   "metadata": {},
   "outputs": [
    {
     "name": "stdout",
     "output_type": "stream",
     "text": [
      "Requirement already satisfied: faker in c:\\users\\setti\\appdata\\local\\programs\\python\\python39\\lib\\site-packages (8.13.2)\n",
      "Requirement already satisfied: python-dateutil>=2.4 in c:\\users\\setti\\appdata\\local\\programs\\python\\python39\\lib\\site-packages (from faker) (2.8.2)\n",
      "Requirement already satisfied: text-unidecode==1.3 in c:\\users\\setti\\appdata\\local\\programs\\python\\python39\\lib\\site-packages (from faker) (1.3)\n",
      "Requirement already satisfied: six>=1.5 in c:\\users\\setti\\appdata\\local\\programs\\python\\python39\\lib\\site-packages (from python-dateutil>=2.4->faker) (1.16.0)\n",
      "Collecting mailer\n",
      "  Downloading mailer-0.8.1.zip (6.5 kB)\n",
      "Using legacy 'setup.py install' for mailer, since package 'wheel' is not installed.\n",
      "Installing collected packages: mailer\n",
      "    Running setup.py install for mailer: started\n",
      "    Running setup.py install for mailer: finished with status 'done'\n",
      "Successfully installed mailer-0.8.1\n"
     ]
    }
   ],
   "source": [
    "!pip install faker\n",
    "!pip install mailer"
   ]
  },
  {
   "cell_type": "code",
   "execution_count": 10,
   "id": "544f3ba0",
   "metadata": {},
   "outputs": [
    {
     "ename": "SyntaxError",
     "evalue": "invalid syntax (Temp/ipykernel_22708/2576565476.py, line 2)",
     "output_type": "error",
     "traceback": [
      "\u001b[1;36m  File \u001b[1;32m\"C:\\Users\\setti\\AppData\\Local\\Temp/ipykernel_22708/2576565476.py\"\u001b[1;36m, line \u001b[1;32m2\u001b[0m\n\u001b[1;33m    import mailer to mail\u001b[0m\n\u001b[1;37m                  ^\u001b[0m\n\u001b[1;31mSyntaxError\u001b[0m\u001b[1;31m:\u001b[0m invalid syntax\n"
     ]
    }
   ],
   "source": [
    "import faker\n",
    "import mailer to mail"
   ]
  },
  {
   "cell_type": "code",
   "execution_count": 9,
   "id": "05bee5b9",
   "metadata": {},
   "outputs": [
    {
     "ename": "ImportError",
     "evalue": "cannot import name 'Mail' from 'mailer' (C:\\Users\\setti\\AppData\\Local\\Programs\\Python\\Python39\\lib\\site-packages\\mailer.py)",
     "output_type": "error",
     "traceback": [
      "\u001b[1;31m---------------------------------------------------------------------------\u001b[0m",
      "\u001b[1;31mImportError\u001b[0m                               Traceback (most recent call last)",
      "\u001b[1;32m~\\AppData\\Local\\Temp/ipykernel_22708/2503628700.py\u001b[0m in \u001b[0;36m<module>\u001b[1;34m\u001b[0m\n\u001b[1;32m----> 1\u001b[1;33m \u001b[1;32mfrom\u001b[0m \u001b[0mmailer\u001b[0m \u001b[1;32mimport\u001b[0m \u001b[0mMail\u001b[0m\u001b[1;33m\u001b[0m\u001b[1;33m\u001b[0m\u001b[0m\n\u001b[0m\u001b[0;32m      2\u001b[0m \u001b[1;33m\u001b[0m\u001b[0m\n\u001b[0;32m      3\u001b[0m \u001b[0mmail\u001b[0m \u001b[1;33m=\u001b[0m \u001b[0mMailer\u001b[0m\u001b[1;33m(\u001b[0m\u001b[0memail\u001b[0m\u001b[1;33m=\u001b[0m\u001b[1;34m'someone@gmail.com'\u001b[0m\u001b[1;33m,\u001b[0m \u001b[0mpassword\u001b[0m\u001b[1;33m=\u001b[0m\u001b[1;34m'your_password'\u001b[0m\u001b[1;33m)\u001b[0m\u001b[1;33m\u001b[0m\u001b[1;33m\u001b[0m\u001b[0m\n\u001b[0;32m      4\u001b[0m \u001b[0mmail\u001b[0m\u001b[1;33m.\u001b[0m\u001b[0msend\u001b[0m\u001b[1;33m(\u001b[0m\u001b[0mreceiver\u001b[0m\u001b[1;33m=\u001b[0m\u001b[1;34m'someone@example.com'\u001b[0m\u001b[1;33m,\u001b[0m \u001b[0msubject\u001b[0m\u001b[1;33m=\u001b[0m\u001b[1;34m'TEST'\u001b[0m\u001b[1;33m,\u001b[0m \u001b[0mmessage\u001b[0m\u001b[1;33m=\u001b[0m\u001b[1;34m'From Python!'\u001b[0m\u001b[1;33m)\u001b[0m\u001b[1;33m\u001b[0m\u001b[1;33m\u001b[0m\u001b[0m\n",
      "\u001b[1;31mImportError\u001b[0m: cannot import name 'Mail' from 'mailer' (C:\\Users\\setti\\AppData\\Local\\Programs\\Python\\Python39\\lib\\site-packages\\mailer.py)"
     ]
    }
   ],
   "source": [
    "from mailer import Mail\n",
    "\n",
    "mail = Mailer(email='someone@gmail.com', password='your_password')\n",
    "mail.send(receiver='someone@example.com', subject='TEST', message='From Python!')\n"
   ]
  },
  {
   "cell_type": "code",
   "execution_count": null,
   "id": "d7c0b8b3",
   "metadata": {},
   "outputs": [],
   "source": []
  }
 ],
 "metadata": {
  "kernelspec": {
   "display_name": "Python 3 (ipykernel)",
   "language": "python",
   "name": "python3"
  },
  "language_info": {
   "codemirror_mode": {
    "name": "ipython",
    "version": 3
   },
   "file_extension": ".py",
   "mimetype": "text/x-python",
   "name": "python",
   "nbconvert_exporter": "python",
   "pygments_lexer": "ipython3",
   "version": "3.9.7"
  }
 },
 "nbformat": 4,
 "nbformat_minor": 5
}
